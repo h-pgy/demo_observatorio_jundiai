{
 "cells": [
  {
   "cell_type": "markdown",
   "id": "9c0ce9c8",
   "metadata": {},
   "source": [
    "## Data Munging\n",
    "\n",
    "Neste notebook geramos novas variáveis para as análises."
   ]
  },
  {
   "cell_type": "code",
   "execution_count": 1,
   "id": "57ea06c2",
   "metadata": {},
   "outputs": [],
   "source": [
    "import pandas as pd\n",
    "import os\n",
    "from config import DIR_DADOS_GERADOS"
   ]
  },
  {
   "cell_type": "code",
   "execution_count": 2,
   "id": "924e0dcd",
   "metadata": {},
   "outputs": [],
   "source": [
    "df = pd.read_csv(os.path.join(DIR_DADOS_GERADOS, 'base_limpa.csv'))"
   ]
  },
  {
   "cell_type": "code",
   "execution_count": 3,
   "id": "296dae71",
   "metadata": {},
   "outputs": [
    {
     "data": {
      "text/html": [
       "<div>\n",
       "<style scoped>\n",
       "    .dataframe tbody tr th:only-of-type {\n",
       "        vertical-align: middle;\n",
       "    }\n",
       "\n",
       "    .dataframe tbody tr th {\n",
       "        vertical-align: top;\n",
       "    }\n",
       "\n",
       "    .dataframe thead th {\n",
       "        text-align: right;\n",
       "    }\n",
       "</style>\n",
       "<table border=\"1\" class=\"dataframe\">\n",
       "  <thead>\n",
       "    <tr style=\"text-align: right;\">\n",
       "      <th></th>\n",
       "      <th>cod_familiar</th>\n",
       "      <th>data_nascimento</th>\n",
       "      <th>sexo</th>\n",
       "      <th>parentesco</th>\n",
       "      <th>escolaridade</th>\n",
       "      <th>referencia_dados</th>\n",
       "      <th>faixa_renda</th>\n",
       "      <th>bairro_oficial</th>\n",
       "      <th>cdregadm</th>\n",
       "      <th>cdbairro</th>\n",
       "      <th>regiao_administrativa</th>\n",
       "    </tr>\n",
       "  </thead>\n",
       "  <tbody>\n",
       "    <tr>\n",
       "      <th>0</th>\n",
       "      <td>X*HXV;+W</td>\n",
       "      <td>04/05/1967</td>\n",
       "      <td>feminino</td>\n",
       "      <td>Pessoa Responsável Familiar</td>\n",
       "      <td>Sem instrução</td>\n",
       "      <td>2024-01</td>\n",
       "      <td>R$ 0 a R$600,00</td>\n",
       "      <td>VIANELO</td>\n",
       "      <td>S</td>\n",
       "      <td>425.0</td>\n",
       "      <td>Sul</td>\n",
       "    </tr>\n",
       "    <tr>\n",
       "      <th>1</th>\n",
       "      <td>X*HXV;+W</td>\n",
       "      <td>29/05/2006</td>\n",
       "      <td>feminino</td>\n",
       "      <td>Neto(a) ou bisneto(a)</td>\n",
       "      <td>Fundamental incompleto</td>\n",
       "      <td>2024-01</td>\n",
       "      <td>R$ 0 a R$600,00</td>\n",
       "      <td>VIANELO</td>\n",
       "      <td>S</td>\n",
       "      <td>425.0</td>\n",
       "      <td>Sul</td>\n",
       "    </tr>\n",
       "    <tr>\n",
       "      <th>2</th>\n",
       "      <td>X@;WXW?H</td>\n",
       "      <td>24/08/2006</td>\n",
       "      <td>feminino</td>\n",
       "      <td>Filho(a)</td>\n",
       "      <td>Fundamental completo</td>\n",
       "      <td>2024-01</td>\n",
       "      <td>R$601,00 a R%1.000,00</td>\n",
       "      <td>ELOY CHAVES</td>\n",
       "      <td>W</td>\n",
       "      <td>446.0</td>\n",
       "      <td>Oeste</td>\n",
       "    </tr>\n",
       "    <tr>\n",
       "      <th>3</th>\n",
       "      <td>X@;WXW?H</td>\n",
       "      <td>16/03/1984</td>\n",
       "      <td>feminino</td>\n",
       "      <td>Pessoa Responsável Familiar</td>\n",
       "      <td>Médio incompleto</td>\n",
       "      <td>2024-01</td>\n",
       "      <td>R$601,00 a R%1.000,00</td>\n",
       "      <td>ELOY CHAVES</td>\n",
       "      <td>W</td>\n",
       "      <td>446.0</td>\n",
       "      <td>Oeste</td>\n",
       "    </tr>\n",
       "    <tr>\n",
       "      <th>4</th>\n",
       "      <td>**+@?*WXV</td>\n",
       "      <td>11/09/1992</td>\n",
       "      <td>feminino</td>\n",
       "      <td>Filho(a)</td>\n",
       "      <td>Médio completo</td>\n",
       "      <td>2024-01</td>\n",
       "      <td>R$ 0 a R$600,00</td>\n",
       "      <td>SANTA GERTRUDES</td>\n",
       "      <td>S</td>\n",
       "      <td>422.0</td>\n",
       "      <td>Sul</td>\n",
       "    </tr>\n",
       "  </tbody>\n",
       "</table>\n",
       "</div>"
      ],
      "text/plain": [
       "  cod_familiar data_nascimento      sexo                   parentesco  \\\n",
       "0     X*HXV;+W      04/05/1967  feminino  Pessoa Responsável Familiar   \n",
       "1     X*HXV;+W      29/05/2006  feminino        Neto(a) ou bisneto(a)   \n",
       "2     X@;WXW?H      24/08/2006  feminino                     Filho(a)   \n",
       "3     X@;WXW?H      16/03/1984  feminino  Pessoa Responsável Familiar   \n",
       "4    **+@?*WXV      11/09/1992  feminino                     Filho(a)   \n",
       "\n",
       "             escolaridade referencia_dados            faixa_renda  \\\n",
       "0           Sem instrução          2024-01        R$ 0 a R$600,00   \n",
       "1  Fundamental incompleto          2024-01        R$ 0 a R$600,00   \n",
       "2    Fundamental completo          2024-01  R$601,00 a R%1.000,00   \n",
       "3        Médio incompleto          2024-01  R$601,00 a R%1.000,00   \n",
       "4          Médio completo          2024-01        R$ 0 a R$600,00   \n",
       "\n",
       "    bairro_oficial cdregadm  cdbairro regiao_administrativa  \n",
       "0          VIANELO        S     425.0                   Sul  \n",
       "1          VIANELO        S     425.0                   Sul  \n",
       "2      ELOY CHAVES        W     446.0                 Oeste  \n",
       "3      ELOY CHAVES        W     446.0                 Oeste  \n",
       "4  SANTA GERTRUDES        S     422.0                   Sul  "
      ]
     },
     "execution_count": 3,
     "metadata": {},
     "output_type": "execute_result"
    }
   ],
   "source": [
    "df.head()"
   ]
  },
  {
   "cell_type": "markdown",
   "id": "188af6b5",
   "metadata": {},
   "source": [
    "### idade"
   ]
  },
  {
   "cell_type": "code",
   "execution_count": 4,
   "id": "3420d46a",
   "metadata": {},
   "outputs": [],
   "source": [
    "df['dtime_nascimento'] = pd.to_datetime(df['data_nascimento'], format='%d/%m/%Y')"
   ]
  },
  {
   "cell_type": "code",
   "execution_count": 5,
   "id": "bc67415f",
   "metadata": {},
   "outputs": [],
   "source": [
    "df['idade'] = pd.Timestamp('now') - df['dtime_nascimento']"
   ]
  },
  {
   "cell_type": "code",
   "execution_count": 6,
   "id": "d6995def",
   "metadata": {},
   "outputs": [],
   "source": [
    "df['idade'] = df['idade'].dt.days/365\n",
    "df['idade'] = df['idade'].round(0).astype(int)"
   ]
  },
  {
   "cell_type": "code",
   "execution_count": 7,
   "id": "d288a0c0",
   "metadata": {},
   "outputs": [
    {
     "data": {
      "text/plain": [
       "<Axes: title={'center': 'Distribuição de Idade'}, ylabel='Frequency'>"
      ]
     },
     "execution_count": 7,
     "metadata": {},
     "output_type": "execute_result"
    },
    {
     "data": {
      "image/png": "[encoded data removed]",
      "text/plain": [
       "<Figure size 640x480 with 1 Axes>"
      ]
     },
     "metadata": {},
     "output_type": "display_data"
    }
   ],
   "source": [
    "df['idade'].plot.hist(bins=30, title='Distribuição de Idade')"
   ]
  },
  {
   "cell_type": "markdown",
   "id": "9a72066e",
   "metadata": {},
   "source": [
    "### eligibilidade\n",
    "\n",
    "Só são eligíveis famílias com renda abaixo de 1000 reais"
   ]
  },
  {
   "cell_type": "code",
   "execution_count": 8,
   "id": "e8fe12e5",
   "metadata": {},
   "outputs": [
    {
     "data": {
      "text/plain": [
       "array(['R$ 0 a R$600,00', 'R$601,00 a R%1.000,00', 'R$1.001,00 ou mais'],\n",
       "      dtype=object)"
      ]
     },
     "execution_count": 8,
     "metadata": {},
     "output_type": "execute_result"
    }
   ],
   "source": [
    "df['faixa_renda'].unique()"
   ]
  },
  {
   "cell_type": "code",
   "execution_count": 9,
   "id": "6134f689",
   "metadata": {},
   "outputs": [],
   "source": [
    "eligiveis = {'R$ 0 a R$600,00', 'R$601,00 a R%1.000,00'}\n",
    "df['eligivel'] = df['faixa_renda'].isin(eligiveis)"
   ]
  },
  {
   "cell_type": "code",
   "execution_count": 10,
   "id": "5349b6a8",
   "metadata": {},
   "outputs": [
    {
     "data": {
      "text/plain": [
       "np.float64(0.7382639138854312)"
      ]
     },
     "execution_count": 10,
     "metadata": {},
     "output_type": "execute_result"
    }
   ],
   "source": [
    "df['eligivel'].mean()"
   ]
  },
  {
   "cell_type": "code",
   "execution_count": 11,
   "id": "e824d230",
   "metadata": {},
   "outputs": [],
   "source": [
    "df.to_csv(os.path.join(DIR_DADOS_GERADOS, 'base_final.csv'), index=False)"
   ]
  },
  {
   "cell_type": "code",
   "execution_count": null,
   "id": "6a702a24",
   "metadata": {},
   "outputs": [],
   "source": []
  }
 ],
 "metadata": {
  "kernelspec": {
   "display_name": "venv",
   "language": "python",
   "name": "python3"
  },
  "language_info": {
   "codemirror_mode": {
    "name": "ipython",
    "version": 3
   },
   "file_extension": ".py",
   "mimetype": "text/x-python",
   "name": "python",
   "nbconvert_exporter": "python",
   "pygments_lexer": "ipython3",
   "version": "3.12.3"
  }
 },
 "nbformat": 4,
 "nbformat_minor": 5
}
