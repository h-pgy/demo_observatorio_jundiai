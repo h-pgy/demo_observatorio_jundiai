{
 "cells": [
  {
   "cell_type": "markdown",
   "id": "7e363ed9",
   "metadata": {},
   "source": [
    "# Data Cleaning\n",
    "\n",
    "Esse notebook tem por objetivo fazer a limpeza dos dados fornecidos e torná-los próprios para análise."
   ]
  },
  {
   "cell_type": "code",
   "execution_count": 1,
   "id": "4d743f4e",
   "metadata": {},
   "outputs": [],
   "source": [
    "import pandas as pd\n",
    "import os\n",
    "from pprint import pprint\n",
    "\n",
    "from config import DIR_DADOS_GERADOS"
   ]
  },
  {
   "cell_type": "markdown",
   "id": "f176a057",
   "metadata": {},
   "source": [
    "### função para carregar os dados em csv"
   ]
  },
  {
   "cell_type": "code",
   "execution_count": 2,
   "id": "a3530e3e",
   "metadata": {},
   "outputs": [],
   "source": [
    "def load_base_csv(fname:str, **read_kwargs)->pd.DataFrame:\n",
    "    \"\"\"Carrega o arquivo CSV da base orginal e retorna um DataFrame.\"\"\"\n",
    "\n",
    "    file = os.path.join('data', 'bases', fname)\n",
    "    if not os.path.exists(file):\n",
    "        raise FileNotFoundError(f\"Arquivo {file} não encontrado.\")\n",
    "    return pd.read_csv(file, **read_kwargs)"
   ]
  },
  {
   "cell_type": "markdown",
   "id": "b6c26a52",
   "metadata": {},
   "source": [
    "### Dicionário de variáveis\n",
    "\n",
    "Foi fornecido um dicionário de variáveis"
   ]
  },
  {
   "cell_type": "code",
   "execution_count": 3,
   "id": "6bf5c747",
   "metadata": {},
   "outputs": [],
   "source": [
    "dicionario = load_base_csv('dicionário_bases.csv', sep=';', skiprows=1)"
   ]
  },
  {
   "cell_type": "code",
   "execution_count": 4,
   "id": "e07ddf0a",
   "metadata": {},
   "outputs": [
    {
     "data": {
      "text/html": [
       "<div>\n",
       "<style scoped>\n",
       "    .dataframe tbody tr th:only-of-type {\n",
       "        vertical-align: middle;\n",
       "    }\n",
       "\n",
       "    .dataframe tbody tr th {\n",
       "        vertical-align: top;\n",
       "    }\n",
       "\n",
       "    .dataframe thead th {\n",
       "        text-align: right;\n",
       "    }\n",
       "</style>\n",
       "<table border=\"1\" class=\"dataframe\">\n",
       "  <thead>\n",
       "    <tr style=\"text-align: right;\">\n",
       "      <th></th>\n",
       "      <th>Nome</th>\n",
       "      <th>Descrição</th>\n",
       "      <th>Respostas</th>\n",
       "    </tr>\n",
       "  </thead>\n",
       "  <tbody>\n",
       "    <tr>\n",
       "      <th>0</th>\n",
       "      <td>cod_familiar</td>\n",
       "      <td>código familiar</td>\n",
       "      <td>[código]</td>\n",
       "    </tr>\n",
       "    <tr>\n",
       "      <th>1</th>\n",
       "      <td>localidade</td>\n",
       "      <td>Localidade do endereço</td>\n",
       "      <td>[nome da localidade]</td>\n",
       "    </tr>\n",
       "    <tr>\n",
       "      <th>2</th>\n",
       "      <td>faixa_renda</td>\n",
       "      <td>Faixas de renda familiar mensal per capita</td>\n",
       "      <td>2 = R$ 0 a R$ 600 reais; 3 = R$ 601 a R$ 1000;...</td>\n",
       "    </tr>\n",
       "    <tr>\n",
       "      <th>3</th>\n",
       "      <td>data_nascimento</td>\n",
       "      <td>Data de nascimento da pessoa</td>\n",
       "      <td>[Data]</td>\n",
       "    </tr>\n",
       "    <tr>\n",
       "      <th>4</th>\n",
       "      <td>sexo</td>\n",
       "      <td>Sexo</td>\n",
       "      <td>1 = Masculino; 2 = Feminino</td>\n",
       "    </tr>\n",
       "    <tr>\n",
       "      <th>5</th>\n",
       "      <td>parentesco</td>\n",
       "      <td>Relação de parentesco com o responsável familiar</td>\n",
       "      <td>1 = Pessoa Responsavel Familiar; 2 = Conjuge/c...</td>\n",
       "    </tr>\n",
       "    <tr>\n",
       "      <th>6</th>\n",
       "      <td>escolaridade</td>\n",
       "      <td>Grau de escolaridade</td>\n",
       "      <td>1 = Sem instrucao; 2 = Fundamental incompleto;...</td>\n",
       "    </tr>\n",
       "    <tr>\n",
       "      <th>7</th>\n",
       "      <td>referencia_dados</td>\n",
       "      <td>Data de referência da extração da base de dados</td>\n",
       "      <td>[Data, somente com mês e ano, considere o dia ...</td>\n",
       "    </tr>\n",
       "  </tbody>\n",
       "</table>\n",
       "</div>"
      ],
      "text/plain": [
       "               Nome                                         Descrição  \\\n",
       "0      cod_familiar                                   código familiar   \n",
       "1        localidade                            Localidade do endereço   \n",
       "2       faixa_renda        Faixas de renda familiar mensal per capita   \n",
       "3   data_nascimento                      Data de nascimento da pessoa   \n",
       "4              sexo                                              Sexo   \n",
       "5        parentesco  Relação de parentesco com o responsável familiar   \n",
       "6      escolaridade                              Grau de escolaridade   \n",
       "7  referencia_dados   Data de referência da extração da base de dados   \n",
       "\n",
       "                                           Respostas  \n",
       "0                                           [código]  \n",
       "1                               [nome da localidade]  \n",
       "2  2 = R$ 0 a R$ 600 reais; 3 = R$ 601 a R$ 1000;...  \n",
       "3                                             [Data]  \n",
       "4                        1 = Masculino; 2 = Feminino  \n",
       "5  1 = Pessoa Responsavel Familiar; 2 = Conjuge/c...  \n",
       "6  1 = Sem instrucao; 2 = Fundamental incompleto;...  \n",
       "7  [Data, somente com mês e ano, considere o dia ...  "
      ]
     },
     "execution_count": 4,
     "metadata": {},
     "output_type": "execute_result"
    }
   ],
   "source": [
    "dicionario"
   ]
  },
  {
   "cell_type": "code",
   "execution_count": 5,
   "id": "74fe6eed",
   "metadata": {},
   "outputs": [
    {
     "data": {
      "text/plain": [
       "(8, 3)"
      ]
     },
     "execution_count": 5,
     "metadata": {},
     "output_type": "execute_result"
    }
   ],
   "source": [
    "dicionario.shape"
   ]
  },
  {
   "cell_type": "markdown",
   "id": "eb55bb66",
   "metadata": {},
   "source": [
    "### Bases CSV fornecidas\n",
    "\n",
    "Foram fornecidas duas bases csv:\n",
    "* test_fam_v2.csv -- que contém dados sobre as famílias\n",
    "* test_pes_v2.csv -- que contém dados sobre as pessoas que pertencem às famílias"
   ]
  },
  {
   "cell_type": "code",
   "execution_count": 6,
   "id": "49032384",
   "metadata": {},
   "outputs": [],
   "source": [
    "fam = load_base_csv('test_fam_v2.csv', sep=';')"
   ]
  },
  {
   "cell_type": "code",
   "execution_count": 7,
   "id": "e21c6f80",
   "metadata": {},
   "outputs": [
    {
     "data": {
      "text/html": [
       "<div>\n",
       "<style scoped>\n",
       "    .dataframe tbody tr th:only-of-type {\n",
       "        vertical-align: middle;\n",
       "    }\n",
       "\n",
       "    .dataframe tbody tr th {\n",
       "        vertical-align: top;\n",
       "    }\n",
       "\n",
       "    .dataframe thead th {\n",
       "        text-align: right;\n",
       "    }\n",
       "</style>\n",
       "<table border=\"1\" class=\"dataframe\">\n",
       "  <thead>\n",
       "    <tr style=\"text-align: right;\">\n",
       "      <th></th>\n",
       "      <th>cod_familiar</th>\n",
       "      <th>localidade</th>\n",
       "      <th>faixa_renda</th>\n",
       "      <th>referencia_dados</th>\n",
       "    </tr>\n",
       "  </thead>\n",
       "  <tbody>\n",
       "    <tr>\n",
       "      <th>0</th>\n",
       "      <td>X*HXV;+W</td>\n",
       "      <td>VILA DELLA PIAZZA</td>\n",
       "      <td>2</td>\n",
       "      <td>2024-01</td>\n",
       "    </tr>\n",
       "    <tr>\n",
       "      <th>1</th>\n",
       "      <td>X@;WXW?H</td>\n",
       "      <td>PARQUE ELOY CHAVES</td>\n",
       "      <td>3</td>\n",
       "      <td>2024-01</td>\n",
       "    </tr>\n",
       "    <tr>\n",
       "      <th>2</th>\n",
       "      <td>**+@?*WXV</td>\n",
       "      <td>JARDIM SANTA GERTRUDES</td>\n",
       "      <td>2</td>\n",
       "      <td>2024-01</td>\n",
       "    </tr>\n",
       "    <tr>\n",
       "      <th>3</th>\n",
       "      <td>*YX*;Y;XY</td>\n",
       "      <td>JARDIM SAO CAMILO</td>\n",
       "      <td>3</td>\n",
       "      <td>2024-01</td>\n",
       "    </tr>\n",
       "    <tr>\n",
       "      <th>4</th>\n",
       "      <td>;**?;;++V</td>\n",
       "      <td>VILA MARINGA</td>\n",
       "      <td>2</td>\n",
       "      <td>2024-01</td>\n",
       "    </tr>\n",
       "  </tbody>\n",
       "</table>\n",
       "</div>"
      ],
      "text/plain": [
       "  cod_familiar              localidade  faixa_renda referencia_dados\n",
       "0     X*HXV;+W       VILA DELLA PIAZZA            2          2024-01\n",
       "1     X@;WXW?H      PARQUE ELOY CHAVES            3          2024-01\n",
       "2    **+@?*WXV  JARDIM SANTA GERTRUDES            2          2024-01\n",
       "3    *YX*;Y;XY       JARDIM SAO CAMILO            3          2024-01\n",
       "4    ;**?;;++V            VILA MARINGA            2          2024-01"
      ]
     },
     "execution_count": 7,
     "metadata": {},
     "output_type": "execute_result"
    }
   ],
   "source": [
    "fam.head()"
   ]
  },
  {
   "cell_type": "code",
   "execution_count": 8,
   "id": "b311db0c",
   "metadata": {},
   "outputs": [
    {
     "data": {
      "text/plain": [
       "(202385, 4)"
      ]
     },
     "execution_count": 8,
     "metadata": {},
     "output_type": "execute_result"
    }
   ],
   "source": [
    "fam.shape"
   ]
  },
  {
   "cell_type": "code",
   "execution_count": 9,
   "id": "f671825e",
   "metadata": {},
   "outputs": [],
   "source": [
    "pess = load_base_csv('test_pes_v2.csv', sep=';')"
   ]
  },
  {
   "cell_type": "code",
   "execution_count": 10,
   "id": "b50a28e8",
   "metadata": {},
   "outputs": [
    {
     "data": {
      "text/html": [
       "<div>\n",
       "<style scoped>\n",
       "    .dataframe tbody tr th:only-of-type {\n",
       "        vertical-align: middle;\n",
       "    }\n",
       "\n",
       "    .dataframe tbody tr th {\n",
       "        vertical-align: top;\n",
       "    }\n",
       "\n",
       "    .dataframe thead th {\n",
       "        text-align: right;\n",
       "    }\n",
       "</style>\n",
       "<table border=\"1\" class=\"dataframe\">\n",
       "  <thead>\n",
       "    <tr style=\"text-align: right;\">\n",
       "      <th></th>\n",
       "      <th>cod_familiar</th>\n",
       "      <th>data_nascimento</th>\n",
       "      <th>sexo</th>\n",
       "      <th>parentesco</th>\n",
       "      <th>escolaridade</th>\n",
       "      <th>referencia_dados</th>\n",
       "    </tr>\n",
       "  </thead>\n",
       "  <tbody>\n",
       "    <tr>\n",
       "      <th>0</th>\n",
       "      <td>X*HXV;+W</td>\n",
       "      <td>04/05/1967</td>\n",
       "      <td>2</td>\n",
       "      <td>1.0</td>\n",
       "      <td>1.0</td>\n",
       "      <td>2024-01</td>\n",
       "    </tr>\n",
       "    <tr>\n",
       "      <th>1</th>\n",
       "      <td>X*HXV;+W</td>\n",
       "      <td>29/05/2006</td>\n",
       "      <td>2</td>\n",
       "      <td>5.0</td>\n",
       "      <td>2.0</td>\n",
       "      <td>2024-01</td>\n",
       "    </tr>\n",
       "    <tr>\n",
       "      <th>2</th>\n",
       "      <td>X@;WXW?H</td>\n",
       "      <td>24/08/2006</td>\n",
       "      <td>2</td>\n",
       "      <td>3.0</td>\n",
       "      <td>3.0</td>\n",
       "      <td>2024-01</td>\n",
       "    </tr>\n",
       "    <tr>\n",
       "      <th>3</th>\n",
       "      <td>X@;WXW?H</td>\n",
       "      <td>16/03/1984</td>\n",
       "      <td>2</td>\n",
       "      <td>1.0</td>\n",
       "      <td>4.0</td>\n",
       "      <td>2024-01</td>\n",
       "    </tr>\n",
       "    <tr>\n",
       "      <th>4</th>\n",
       "      <td>**+@?*WXV</td>\n",
       "      <td>11/09/1992</td>\n",
       "      <td>2</td>\n",
       "      <td>3.0</td>\n",
       "      <td>5.0</td>\n",
       "      <td>2024-01</td>\n",
       "    </tr>\n",
       "  </tbody>\n",
       "</table>\n",
       "</div>"
      ],
      "text/plain": [
       "  cod_familiar data_nascimento  sexo  parentesco  escolaridade  \\\n",
       "0     X*HXV;+W      04/05/1967     2         1.0           1.0   \n",
       "1     X*HXV;+W      29/05/2006     2         5.0           2.0   \n",
       "2     X@;WXW?H      24/08/2006     2         3.0           3.0   \n",
       "3     X@;WXW?H      16/03/1984     2         1.0           4.0   \n",
       "4    **+@?*WXV      11/09/1992     2         3.0           5.0   \n",
       "\n",
       "  referencia_dados  \n",
       "0          2024-01  \n",
       "1          2024-01  \n",
       "2          2024-01  \n",
       "3          2024-01  \n",
       "4          2024-01  "
      ]
     },
     "execution_count": 10,
     "metadata": {},
     "output_type": "execute_result"
    }
   ],
   "source": [
    "pess.head()"
   ]
  },
  {
   "cell_type": "code",
   "execution_count": 11,
   "id": "f0f8257d",
   "metadata": {},
   "outputs": [
    {
     "data": {
      "text/plain": [
       "(497291, 6)"
      ]
     },
     "execution_count": 11,
     "metadata": {},
     "output_type": "execute_result"
    }
   ],
   "source": [
    "pess.shape"
   ]
  },
  {
   "cell_type": "markdown",
   "id": "69458355",
   "metadata": {},
   "source": [
    "### Merge Bases\n",
    "\n",
    "Como os dados não são muito grandes, podemos dar join nas bases de dados para facilitar a análise.\n",
    "\n",
    "Vamos injetar os dados sobre as famílias na base de pessoas.\n",
    "\n",
    "A base de famílias é importante pois contém a faixa de renda, que define a eligibilidade. Além do bairro que permitirá fazer os mapas coropléticos posteriormente.\n",
    "\n",
    "Podemos reconstruir a unidade de análise \"família\" posteriormente por meio de groupby. Isso será importante por exemplo para calcular a distribuição de gênero e escolaridade na família.\n",
    "\n",
    "Precisa ser um left join com pessoas à esquerda: ou seja, vamos inserir os dados da família sobre a pessoa."
   ]
  },
  {
   "cell_type": "code",
   "execution_count": 12,
   "id": "8d01d41b",
   "metadata": {},
   "outputs": [],
   "source": [
    "cods_familias = set(fam['cod_familiar'].unique())\n",
    "cods_familias_pessoas = set(pess['cod_familiar'].unique())"
   ]
  },
  {
   "cell_type": "code",
   "execution_count": 13,
   "id": "df15eb7a",
   "metadata": {},
   "outputs": [
    {
     "name": "stdout",
     "output_type": "stream",
     "text": [
      "Todas as famílias tem membros na base de pessoas.\n"
     ]
    }
   ],
   "source": [
    "if not (cods_familias - cods_familias_pessoas):\n",
    "    print(\"Todas as famílias tem membros na base de pessoas.\")"
   ]
  },
  {
   "cell_type": "code",
   "execution_count": 14,
   "id": "eb628b48",
   "metadata": {},
   "outputs": [
    {
     "name": "stdout",
     "output_type": "stream",
     "text": [
      "As famílias de todas as pessoas estão identificadas na base de famílias.\n"
     ]
    }
   ],
   "source": [
    "if not (cods_familias_pessoas - cods_familias):\n",
    "    print(\"As famílias de todas as pessoas estão identificadas na base de famílias.\")"
   ]
  },
  {
   "cell_type": "code",
   "execution_count": 15,
   "id": "77f3d9b7",
   "metadata": {},
   "outputs": [],
   "source": [
    "df = pd.merge(pess, fam, how='left')"
   ]
  },
  {
   "cell_type": "code",
   "execution_count": 16,
   "id": "934b8ec1",
   "metadata": {},
   "outputs": [
    {
     "data": {
      "text/html": [
       "<div>\n",
       "<style scoped>\n",
       "    .dataframe tbody tr th:only-of-type {\n",
       "        vertical-align: middle;\n",
       "    }\n",
       "\n",
       "    .dataframe tbody tr th {\n",
       "        vertical-align: top;\n",
       "    }\n",
       "\n",
       "    .dataframe thead th {\n",
       "        text-align: right;\n",
       "    }\n",
       "</style>\n",
       "<table border=\"1\" class=\"dataframe\">\n",
       "  <thead>\n",
       "    <tr style=\"text-align: right;\">\n",
       "      <th></th>\n",
       "      <th>cod_familiar</th>\n",
       "      <th>data_nascimento</th>\n",
       "      <th>sexo</th>\n",
       "      <th>parentesco</th>\n",
       "      <th>escolaridade</th>\n",
       "      <th>referencia_dados</th>\n",
       "      <th>localidade</th>\n",
       "      <th>faixa_renda</th>\n",
       "    </tr>\n",
       "  </thead>\n",
       "  <tbody>\n",
       "    <tr>\n",
       "      <th>0</th>\n",
       "      <td>X*HXV;+W</td>\n",
       "      <td>04/05/1967</td>\n",
       "      <td>2</td>\n",
       "      <td>1.0</td>\n",
       "      <td>1.0</td>\n",
       "      <td>2024-01</td>\n",
       "      <td>VILA DELLA PIAZZA</td>\n",
       "      <td>2</td>\n",
       "    </tr>\n",
       "    <tr>\n",
       "      <th>1</th>\n",
       "      <td>X*HXV;+W</td>\n",
       "      <td>29/05/2006</td>\n",
       "      <td>2</td>\n",
       "      <td>5.0</td>\n",
       "      <td>2.0</td>\n",
       "      <td>2024-01</td>\n",
       "      <td>VILA DELLA PIAZZA</td>\n",
       "      <td>2</td>\n",
       "    </tr>\n",
       "    <tr>\n",
       "      <th>2</th>\n",
       "      <td>X@;WXW?H</td>\n",
       "      <td>24/08/2006</td>\n",
       "      <td>2</td>\n",
       "      <td>3.0</td>\n",
       "      <td>3.0</td>\n",
       "      <td>2024-01</td>\n",
       "      <td>PARQUE ELOY CHAVES</td>\n",
       "      <td>3</td>\n",
       "    </tr>\n",
       "    <tr>\n",
       "      <th>3</th>\n",
       "      <td>X@;WXW?H</td>\n",
       "      <td>16/03/1984</td>\n",
       "      <td>2</td>\n",
       "      <td>1.0</td>\n",
       "      <td>4.0</td>\n",
       "      <td>2024-01</td>\n",
       "      <td>PARQUE ELOY CHAVES</td>\n",
       "      <td>3</td>\n",
       "    </tr>\n",
       "    <tr>\n",
       "      <th>4</th>\n",
       "      <td>**+@?*WXV</td>\n",
       "      <td>11/09/1992</td>\n",
       "      <td>2</td>\n",
       "      <td>3.0</td>\n",
       "      <td>5.0</td>\n",
       "      <td>2024-01</td>\n",
       "      <td>JARDIM SANTA GERTRUDES</td>\n",
       "      <td>2</td>\n",
       "    </tr>\n",
       "  </tbody>\n",
       "</table>\n",
       "</div>"
      ],
      "text/plain": [
       "  cod_familiar data_nascimento  sexo  parentesco  escolaridade  \\\n",
       "0     X*HXV;+W      04/05/1967     2         1.0           1.0   \n",
       "1     X*HXV;+W      29/05/2006     2         5.0           2.0   \n",
       "2     X@;WXW?H      24/08/2006     2         3.0           3.0   \n",
       "3     X@;WXW?H      16/03/1984     2         1.0           4.0   \n",
       "4    **+@?*WXV      11/09/1992     2         3.0           5.0   \n",
       "\n",
       "  referencia_dados              localidade  faixa_renda  \n",
       "0          2024-01       VILA DELLA PIAZZA            2  \n",
       "1          2024-01       VILA DELLA PIAZZA            2  \n",
       "2          2024-01      PARQUE ELOY CHAVES            3  \n",
       "3          2024-01      PARQUE ELOY CHAVES            3  \n",
       "4          2024-01  JARDIM SANTA GERTRUDES            2  "
      ]
     },
     "execution_count": 16,
     "metadata": {},
     "output_type": "execute_result"
    }
   ],
   "source": [
    "df.head()"
   ]
  },
  {
   "cell_type": "code",
   "execution_count": 17,
   "id": "994b78d7",
   "metadata": {},
   "outputs": [
    {
     "data": {
      "text/plain": [
       "True"
      ]
     },
     "execution_count": 17,
     "metadata": {},
     "output_type": "execute_result"
    }
   ],
   "source": [
    "len(df) == len(pess)"
   ]
  },
  {
   "cell_type": "code",
   "execution_count": 18,
   "id": "e07a14bb",
   "metadata": {},
   "outputs": [],
   "source": [
    "del pess\n",
    "del fam\n",
    "del cods_familias_pessoas\n",
    "del cods_familias"
   ]
  },
  {
   "cell_type": "markdown",
   "id": "cb883043",
   "metadata": {},
   "source": [
    "### Reconstruir as variávies categóricas\n",
    "\n",
    "Agora podemos reconstruir as variáveis categóricas (que foram fornecidas como ids).\n",
    "\n",
    "O dicionário de variáveis tem os dados das categorias, que foram transcritos nos mapeamentos abaixo."
   ]
  },
  {
   "cell_type": "code",
   "execution_count": 19,
   "id": "97701352",
   "metadata": {},
   "outputs": [],
   "source": [
    "cols_categoricas = ['sexo', 'parentesco', 'faixa_renda', 'escolaridade']"
   ]
  },
  {
   "cell_type": "markdown",
   "id": "23de33ca",
   "metadata": {},
   "source": [
    "Note-se que a coluna de parentesco tem alguns poucos registros vazios. É possivel que sejam pessoas \"sozinhas\".\n",
    "\n",
    "A escolaridade também possui registros vazios."
   ]
  },
  {
   "cell_type": "code",
   "execution_count": 20,
   "id": "6b0d3e90",
   "metadata": {},
   "outputs": [
    {
     "data": {
      "text/plain": [
       "sexo            False\n",
       "parentesco       True\n",
       "faixa_renda     False\n",
       "escolaridade     True\n",
       "dtype: bool"
      ]
     },
     "execution_count": 20,
     "metadata": {},
     "output_type": "execute_result"
    }
   ],
   "source": [
    "df[cols_categoricas].isnull().any()"
   ]
  },
  {
   "cell_type": "code",
   "execution_count": 21,
   "id": "a0b2d8e3",
   "metadata": {},
   "outputs": [
    {
     "data": {
      "text/plain": [
       "np.float64(0.0032214538368882605)"
      ]
     },
     "execution_count": 21,
     "metadata": {},
     "output_type": "execute_result"
    }
   ],
   "source": [
    "df['parentesco'].isnull().mean()"
   ]
  },
  {
   "cell_type": "code",
   "execution_count": 22,
   "id": "3d1da884",
   "metadata": {},
   "outputs": [
    {
     "data": {
      "text/plain": [
       "np.int64(1602)"
      ]
     },
     "execution_count": 22,
     "metadata": {},
     "output_type": "execute_result"
    }
   ],
   "source": [
    "df['parentesco'].isnull().sum()"
   ]
  },
  {
   "cell_type": "code",
   "execution_count": 23,
   "id": "2c72ba4d",
   "metadata": {},
   "outputs": [
    {
     "data": {
      "text/plain": [
       "np.float64(0.08193592886257745)"
      ]
     },
     "execution_count": 23,
     "metadata": {},
     "output_type": "execute_result"
    }
   ],
   "source": [
    "df['escolaridade'].isnull().mean()"
   ]
  },
  {
   "cell_type": "code",
   "execution_count": 24,
   "id": "1ffefe4a",
   "metadata": {},
   "outputs": [
    {
     "data": {
      "text/plain": [
       "np.int64(40746)"
      ]
     },
     "execution_count": 24,
     "metadata": {},
     "output_type": "execute_result"
    }
   ],
   "source": [
    "df['escolaridade'].isnull().sum()"
   ]
  },
  {
   "cell_type": "markdown",
   "id": "9274cbc9",
   "metadata": {},
   "source": [
    "Por conta disso essas colunas foram carregadas como float. Vou transformar em int."
   ]
  },
  {
   "cell_type": "code",
   "execution_count": 25,
   "id": "f9d74d94",
   "metadata": {},
   "outputs": [
    {
     "data": {
      "text/plain": [
       "sexo              int64\n",
       "parentesco      float64\n",
       "faixa_renda       int64\n",
       "escolaridade    float64\n",
       "dtype: object"
      ]
     },
     "execution_count": 25,
     "metadata": {},
     "output_type": "execute_result"
    }
   ],
   "source": [
    "df[cols_categoricas].dtypes"
   ]
  },
  {
   "cell_type": "code",
   "execution_count": 26,
   "id": "7ee03902",
   "metadata": {},
   "outputs": [],
   "source": [
    "df['parentesco'] = df['parentesco'].apply(lambda x: int(x) if not pd.isnull(x) else 999)\n",
    "df['escolaridade'] = df['escolaridade'].apply(lambda x: int(x) if not pd.isnull(x) else 999)"
   ]
  },
  {
   "cell_type": "code",
   "execution_count": 27,
   "id": "9b16f5a0",
   "metadata": {},
   "outputs": [
    {
     "data": {
      "text/plain": [
       "sexo            int64\n",
       "parentesco      int64\n",
       "faixa_renda     int64\n",
       "escolaridade    int64\n",
       "dtype: object"
      ]
     },
     "execution_count": 27,
     "metadata": {},
     "output_type": "execute_result"
    }
   ],
   "source": [
    "df[cols_categoricas].dtypes"
   ]
  },
  {
   "cell_type": "code",
   "execution_count": 28,
   "id": "f5b98c7e",
   "metadata": {},
   "outputs": [],
   "source": [
    "mapper_cols_categoricas = {\n",
    "    'sexo' : {\n",
    "        1 : 'masculino',\n",
    "        2 : 'feminino'\n",
    "    },\n",
    "    'faixa_renda' : {\n",
    "        2 : 'R$ 0 a R$600,00',\n",
    "        3 : 'R$601,00 a R%1.000,00',\n",
    "        4 : 'R$1.001,00 ou mais'\n",
    "    },\n",
    "    'parentesco' : {\n",
    "        1 : 'Pessoa Responsável Familiar',\n",
    "        2 : 'Cônjuge/companheiro(a)',\n",
    "        3 : 'Filho(a)',\n",
    "        4 : 'Enteado(a)',\n",
    "        5 : 'Neto(a) ou bisneto(a)',\n",
    "        6 : 'Pai ou mãe',\n",
    "        7 : 'Sogro(a)',\n",
    "        8 : 'Irmão ou irmã',\n",
    "        9 : 'Genro ou nora',\n",
    "        10 : 'Outro parente',\n",
    "        11 : 'Não parente'\n",
    "    },\n",
    "    'escolaridade' : {\n",
    "        1 : 'Sem instrução',\n",
    "        2 : 'Fundamental incompleto',\n",
    "        3 : 'Fundamental completo',\n",
    "        4 : 'Médio incompleto',\n",
    "        5 : 'Médio completo',\n",
    "        6 : 'Superior incompleto ou mais'\n",
    "    }\n",
    "\n",
    "}"
   ]
  },
  {
   "cell_type": "code",
   "execution_count": 29,
   "id": "25329467",
   "metadata": {},
   "outputs": [],
   "source": [
    "for col, mapper in mapper_cols_categoricas.items():\n",
    "    df[col] = df[col].map(mapper).fillna('Não  informado.')"
   ]
  },
  {
   "cell_type": "code",
   "execution_count": 30,
   "id": "c1ef9971",
   "metadata": {},
   "outputs": [
    {
     "name": "stdout",
     "output_type": "stream",
     "text": [
      "Contagem de valores: sexo\n",
      "{'feminino': 0.5769056749468621, 'masculino': 0.4230943250531379}\n",
      "\n",
      "\n",
      "Contagem de valores: parentesco\n",
      "{   'Cônjuge/companheiro(a)': 0.10574894779917593,\n",
      "    'Enteado(a)': 0.002652370543605253,\n",
      "    'Filho(a)': 0.42494837027012355,\n",
      "    'Genro ou nora': 0.0019364919131856398,\n",
      "    'Irmão ou irmã': 0.010732146771206397,\n",
      "    'Neto(a) ou bisneto(a)': 0.022226422758505584,\n",
      "    'Não  informado.': 0.0032214538368882605,\n",
      "    'Não parente': 0.002205951847107629,\n",
      "    'Outro parente': 0.007211069574957118,\n",
      "    'Pai ou mãe': 0.015365248918641198,\n",
      "    'Pessoa Responsável Familiar': 0.4029833638654229,\n",
      "    'Sogro(a)': 0.0007681619011805965}\n",
      "\n",
      "\n",
      "Contagem de valores: faixa_renda\n",
      "{   'R$ 0 a R$600,00': 0.47438220277463294,\n",
      "    'R$1.001,00 ou mais': 0.2617360861145687,\n",
      "    'R$601,00 a R%1.000,00': 0.2638817111107983}\n",
      "\n",
      "\n",
      "Contagem de valores: escolaridade\n",
      "{   'Fundamental completo': 0.07763060260491342,\n",
      "    'Fundamental incompleto': 0.33760112288378435,\n",
      "    'Médio completo': 0.17915465994759608,\n",
      "    'Médio incompleto': 0.07268983351800053,\n",
      "    'Não  informado.': 0.08193592886257745,\n",
      "    'Sem instrução': 0.2227005918064071,\n",
      "    'Superior incompleto ou mais': 0.028287260376721076}\n",
      "\n",
      "\n"
     ]
    }
   ],
   "source": [
    "for col in cols_categoricas:\n",
    "    print(f'Contagem de valores: {col}')\n",
    "    pprint(df[col].value_counts(normalize=True).to_dict(), indent=4)\n",
    "    print('\\n')"
   ]
  },
  {
   "cell_type": "markdown",
   "id": "771eb040",
   "metadata": {},
   "source": [
    "### Correção dos nomes dos bairros\n",
    "\n",
    "Os dados geo contém uma tabela com a padronização dos nomes dos bairros. Vamos aplicar essa correção sobre a coluna localidade."
   ]
  },
  {
   "cell_type": "code",
   "execution_count": 31,
   "id": "bb1d9cf9",
   "metadata": {},
   "outputs": [
    {
     "data": {
      "text/plain": [
       "np.False_"
      ]
     },
     "execution_count": 31,
     "metadata": {},
     "output_type": "execute_result"
    }
   ],
   "source": [
    "df['localidade'].isnull().any()"
   ]
  },
  {
   "cell_type": "code",
   "execution_count": 32,
   "id": "d39cd41d",
   "metadata": {},
   "outputs": [],
   "source": [
    "def load_csv_geo(fname:str, **read_kwargs)->pd.DataFrame:\n",
    "    \"\"\"Carrega o arquivo CSV da base orginal e retorna um DataFrame.\"\"\"\n",
    "\n",
    "    file = os.path.join('data', 'geo', 'tabelas_geo', fname)\n",
    "    if not os.path.exists(file):\n",
    "        raise FileNotFoundError(f\"Arquivo {file} não encontrado.\")\n",
    "    return pd.read_csv(file, **read_kwargs)"
   ]
  },
  {
   "cell_type": "code",
   "execution_count": 33,
   "id": "5e5f8a7c",
   "metadata": {},
   "outputs": [],
   "source": [
    "correcao = load_csv_geo('correcao_bairros.csv', sep=';')"
   ]
  },
  {
   "cell_type": "code",
   "execution_count": 34,
   "id": "44e6b0f9",
   "metadata": {},
   "outputs": [
    {
     "data": {
      "text/html": [
       "<div>\n",
       "<style scoped>\n",
       "    .dataframe tbody tr th:only-of-type {\n",
       "        vertical-align: middle;\n",
       "    }\n",
       "\n",
       "    .dataframe tbody tr th {\n",
       "        vertical-align: top;\n",
       "    }\n",
       "\n",
       "    .dataframe thead th {\n",
       "        text-align: right;\n",
       "    }\n",
       "</style>\n",
       "<table border=\"1\" class=\"dataframe\">\n",
       "  <thead>\n",
       "    <tr style=\"text-align: right;\">\n",
       "      <th></th>\n",
       "      <th>Nomes errados ou incompletos</th>\n",
       "      <th>Código bairro oficial</th>\n",
       "      <th>Bairro oficial</th>\n",
       "    </tr>\n",
       "  </thead>\n",
       "  <tbody>\n",
       "    <tr>\n",
       "      <th>0</th>\n",
       "      <td>Aeroporto</td>\n",
       "      <td>439</td>\n",
       "      <td>Aeroporto</td>\n",
       "    </tr>\n",
       "    <tr>\n",
       "      <th>1</th>\n",
       "      <td>CHACARA AEROPORTO</td>\n",
       "      <td>439</td>\n",
       "      <td>Aeroporto</td>\n",
       "    </tr>\n",
       "    <tr>\n",
       "      <th>2</th>\n",
       "      <td>Agapeama</td>\n",
       "      <td>415</td>\n",
       "      <td>Agapeama</td>\n",
       "    </tr>\n",
       "    <tr>\n",
       "      <th>3</th>\n",
       "      <td>AGAPEMA</td>\n",
       "      <td>415</td>\n",
       "      <td>Agapeama</td>\n",
       "    </tr>\n",
       "    <tr>\n",
       "      <th>4</th>\n",
       "      <td>AGAPRAMA</td>\n",
       "      <td>415</td>\n",
       "      <td>Agapeama</td>\n",
       "    </tr>\n",
       "  </tbody>\n",
       "</table>\n",
       "</div>"
      ],
      "text/plain": [
       "  Nomes errados ou incompletos Código bairro oficial Bairro oficial\n",
       "0                    Aeroporto                   439      Aeroporto\n",
       "1            CHACARA AEROPORTO                   439      Aeroporto\n",
       "2                     Agapeama                   415       Agapeama\n",
       "3                      AGAPEMA                   415       Agapeama\n",
       "4                     AGAPRAMA                   415       Agapeama"
      ]
     },
     "execution_count": 34,
     "metadata": {},
     "output_type": "execute_result"
    }
   ],
   "source": [
    "correcao.head()"
   ]
  },
  {
   "cell_type": "markdown",
   "id": "ac475487",
   "metadata": {},
   "source": [
    "Note que as localidades estão todas com letras maiúsculas."
   ]
  },
  {
   "cell_type": "code",
   "execution_count": 35,
   "id": "c511ac9f",
   "metadata": {},
   "outputs": [
    {
     "data": {
      "text/plain": [
       "np.True_"
      ]
     },
     "execution_count": 35,
     "metadata": {},
     "output_type": "execute_result"
    }
   ],
   "source": [
    "df['localidade'].str.isupper().all()"
   ]
  },
  {
   "cell_type": "code",
   "execution_count": 36,
   "id": "5b296e31",
   "metadata": {},
   "outputs": [],
   "source": [
    "correcao['nomes_originais_upper'] = correcao['Nomes errados ou incompletos'].str.upper()\n",
    "correcao['bairro_oficial_upper'] = correcao['Bairro oficial'].str.upper()"
   ]
  },
  {
   "cell_type": "code",
   "execution_count": 37,
   "id": "c7c09e9b",
   "metadata": {},
   "outputs": [],
   "source": [
    "mapper_bairros = dict(zip(correcao['nomes_originais_upper'], correcao['bairro_oficial_upper']))"
   ]
  },
  {
   "cell_type": "markdown",
   "id": "2a557331",
   "metadata": {},
   "source": [
    "Poucos bairros precisam ser corrigidos"
   ]
  },
  {
   "cell_type": "code",
   "execution_count": 38,
   "id": "edb38348",
   "metadata": {},
   "outputs": [
    {
     "data": {
      "text/plain": [
       "localidade\n",
       "True     0.999115\n",
       "False    0.000885\n",
       "Name: proportion, dtype: float64"
      ]
     },
     "execution_count": 38,
     "metadata": {},
     "output_type": "execute_result"
    }
   ],
   "source": [
    "df['localidade'].isin(mapper_bairros.keys()).value_counts(normalize=True)"
   ]
  },
  {
   "cell_type": "code",
   "execution_count": 39,
   "id": "71d9155a",
   "metadata": {},
   "outputs": [],
   "source": [
    "df['localidade_padronizado'] = df['localidade'].apply(lambda x: mapper_bairros.get(x, x))"
   ]
  },
  {
   "cell_type": "code",
   "execution_count": 40,
   "id": "4144661a",
   "metadata": {},
   "outputs": [],
   "source": [
    "bairros_oficiais = load_csv_geo('bairros_oficiais.csv', sep=';')"
   ]
  },
  {
   "cell_type": "code",
   "execution_count": 41,
   "id": "4aa93e64",
   "metadata": {},
   "outputs": [
    {
     "data": {
      "text/html": [
       "<div>\n",
       "<style scoped>\n",
       "    .dataframe tbody tr th:only-of-type {\n",
       "        vertical-align: middle;\n",
       "    }\n",
       "\n",
       "    .dataframe tbody tr th {\n",
       "        vertical-align: top;\n",
       "    }\n",
       "\n",
       "    .dataframe thead th {\n",
       "        text-align: right;\n",
       "    }\n",
       "</style>\n",
       "<table border=\"1\" class=\"dataframe\">\n",
       "  <thead>\n",
       "    <tr style=\"text-align: right;\">\n",
       "      <th></th>\n",
       "      <th>fid</th>\n",
       "      <th>cdbairro</th>\n",
       "      <th>cdregadm</th>\n",
       "      <th>nmbairro</th>\n",
       "    </tr>\n",
       "  </thead>\n",
       "  <tbody>\n",
       "    <tr>\n",
       "      <th>0</th>\n",
       "      <td>1</td>\n",
       "      <td>418</td>\n",
       "      <td>S</td>\n",
       "      <td>CRISTAIS</td>\n",
       "    </tr>\n",
       "    <tr>\n",
       "      <th>1</th>\n",
       "      <td>2</td>\n",
       "      <td>404</td>\n",
       "      <td>N</td>\n",
       "      <td>FAZENDA CONCEIÇÃO</td>\n",
       "    </tr>\n",
       "    <tr>\n",
       "      <th>2</th>\n",
       "      <td>3</td>\n",
       "      <td>429</td>\n",
       "      <td>S</td>\n",
       "      <td>VILA RAMI</td>\n",
       "    </tr>\n",
       "    <tr>\n",
       "      <th>3</th>\n",
       "      <td>4</td>\n",
       "      <td>424</td>\n",
       "      <td>S</td>\n",
       "      <td>TIJUCO PRETO</td>\n",
       "    </tr>\n",
       "    <tr>\n",
       "      <th>4</th>\n",
       "      <td>5</td>\n",
       "      <td>417</td>\n",
       "      <td>S</td>\n",
       "      <td>CASTANHO</td>\n",
       "    </tr>\n",
       "  </tbody>\n",
       "</table>\n",
       "</div>"
      ],
      "text/plain": [
       "   fid  cdbairro cdregadm           nmbairro\n",
       "0    1       418        S           CRISTAIS\n",
       "1    2       404        N  FAZENDA CONCEIÇÃO\n",
       "2    3       429        S          VILA RAMI\n",
       "3    4       424        S       TIJUCO PRETO\n",
       "4    5       417        S           CASTANHO"
      ]
     },
     "execution_count": 41,
     "metadata": {},
     "output_type": "execute_result"
    }
   ],
   "source": [
    "bairros_oficiais.head()"
   ]
  },
  {
   "cell_type": "code",
   "execution_count": 42,
   "id": "7c0086b2",
   "metadata": {},
   "outputs": [],
   "source": [
    "bairros_oficiais['nm_bairro_upper'] = bairros_oficiais['nmbairro'].str.upper()"
   ]
  },
  {
   "cell_type": "code",
   "execution_count": 43,
   "id": "3337f2b8",
   "metadata": {},
   "outputs": [],
   "source": [
    "nomes_oficiais = set(bairros_oficiais['nm_bairro_upper'].unique())"
   ]
  },
  {
   "cell_type": "markdown",
   "id": "4070ca29",
   "metadata": {},
   "source": [
    "Note-se que mesmo com a padronização alguns bairros não foram encontrados."
   ]
  },
  {
   "cell_type": "code",
   "execution_count": 44,
   "id": "e2c642c3",
   "metadata": {},
   "outputs": [
    {
     "data": {
      "text/plain": [
       "localidade_padronizado\n",
       "True     0.997414\n",
       "False    0.002586\n",
       "Name: proportion, dtype: float64"
      ]
     },
     "execution_count": 44,
     "metadata": {},
     "output_type": "execute_result"
    }
   ],
   "source": [
    "df['localidade_padronizado'].isin(nomes_oficiais).value_counts(normalize=True)"
   ]
  },
  {
   "cell_type": "code",
   "execution_count": 45,
   "id": "db9ad5bf",
   "metadata": {},
   "outputs": [
    {
     "data": {
      "text/plain": [
       "localidade_padronizado\n",
       "True     496005\n",
       "False      1286\n",
       "Name: count, dtype: int64"
      ]
     },
     "execution_count": 45,
     "metadata": {},
     "output_type": "execute_result"
    }
   ],
   "source": [
    "df['localidade_padronizado'].isin(nomes_oficiais).value_counts()"
   ]
  },
  {
   "cell_type": "markdown",
   "id": "6c4be1d2",
   "metadata": {},
   "source": [
    "Vou fazer o merge para obter as informações de código do bairro e de região administrativa"
   ]
  },
  {
   "cell_type": "code",
   "execution_count": 46,
   "id": "dc96fa4e",
   "metadata": {},
   "outputs": [],
   "source": [
    "bairros_oficiais = bairros_oficiais[['nm_bairro_upper', 'cdregadm', 'cdbairro']].copy()"
   ]
  },
  {
   "cell_type": "code",
   "execution_count": 47,
   "id": "9254e550",
   "metadata": {},
   "outputs": [],
   "source": [
    "df = pd.merge(df, bairros_oficiais, how='left', left_on='localidade_padronizado', right_on='nm_bairro_upper')"
   ]
  },
  {
   "cell_type": "code",
   "execution_count": 48,
   "id": "2d861de4",
   "metadata": {},
   "outputs": [
    {
     "data": {
      "text/html": [
       "<div>\n",
       "<style scoped>\n",
       "    .dataframe tbody tr th:only-of-type {\n",
       "        vertical-align: middle;\n",
       "    }\n",
       "\n",
       "    .dataframe tbody tr th {\n",
       "        vertical-align: top;\n",
       "    }\n",
       "\n",
       "    .dataframe thead th {\n",
       "        text-align: right;\n",
       "    }\n",
       "</style>\n",
       "<table border=\"1\" class=\"dataframe\">\n",
       "  <thead>\n",
       "    <tr style=\"text-align: right;\">\n",
       "      <th></th>\n",
       "      <th>cod_familiar</th>\n",
       "      <th>data_nascimento</th>\n",
       "      <th>sexo</th>\n",
       "      <th>parentesco</th>\n",
       "      <th>escolaridade</th>\n",
       "      <th>referencia_dados</th>\n",
       "      <th>localidade</th>\n",
       "      <th>faixa_renda</th>\n",
       "      <th>localidade_padronizado</th>\n",
       "      <th>nm_bairro_upper</th>\n",
       "      <th>cdregadm</th>\n",
       "      <th>cdbairro</th>\n",
       "    </tr>\n",
       "  </thead>\n",
       "  <tbody>\n",
       "    <tr>\n",
       "      <th>0</th>\n",
       "      <td>X*HXV;+W</td>\n",
       "      <td>04/05/1967</td>\n",
       "      <td>feminino</td>\n",
       "      <td>Pessoa Responsável Familiar</td>\n",
       "      <td>Sem instrução</td>\n",
       "      <td>2024-01</td>\n",
       "      <td>VILA DELLA PIAZZA</td>\n",
       "      <td>R$ 0 a R$600,00</td>\n",
       "      <td>VIANELO</td>\n",
       "      <td>VIANELO</td>\n",
       "      <td>S</td>\n",
       "      <td>425.0</td>\n",
       "    </tr>\n",
       "    <tr>\n",
       "      <th>1</th>\n",
       "      <td>X*HXV;+W</td>\n",
       "      <td>29/05/2006</td>\n",
       "      <td>feminino</td>\n",
       "      <td>Neto(a) ou bisneto(a)</td>\n",
       "      <td>Fundamental incompleto</td>\n",
       "      <td>2024-01</td>\n",
       "      <td>VILA DELLA PIAZZA</td>\n",
       "      <td>R$ 0 a R$600,00</td>\n",
       "      <td>VIANELO</td>\n",
       "      <td>VIANELO</td>\n",
       "      <td>S</td>\n",
       "      <td>425.0</td>\n",
       "    </tr>\n",
       "    <tr>\n",
       "      <th>2</th>\n",
       "      <td>X@;WXW?H</td>\n",
       "      <td>24/08/2006</td>\n",
       "      <td>feminino</td>\n",
       "      <td>Filho(a)</td>\n",
       "      <td>Fundamental completo</td>\n",
       "      <td>2024-01</td>\n",
       "      <td>PARQUE ELOY CHAVES</td>\n",
       "      <td>R$601,00 a R%1.000,00</td>\n",
       "      <td>ELOY CHAVES</td>\n",
       "      <td>ELOY CHAVES</td>\n",
       "      <td>W</td>\n",
       "      <td>446.0</td>\n",
       "    </tr>\n",
       "    <tr>\n",
       "      <th>3</th>\n",
       "      <td>X@;WXW?H</td>\n",
       "      <td>16/03/1984</td>\n",
       "      <td>feminino</td>\n",
       "      <td>Pessoa Responsável Familiar</td>\n",
       "      <td>Médio incompleto</td>\n",
       "      <td>2024-01</td>\n",
       "      <td>PARQUE ELOY CHAVES</td>\n",
       "      <td>R$601,00 a R%1.000,00</td>\n",
       "      <td>ELOY CHAVES</td>\n",
       "      <td>ELOY CHAVES</td>\n",
       "      <td>W</td>\n",
       "      <td>446.0</td>\n",
       "    </tr>\n",
       "    <tr>\n",
       "      <th>4</th>\n",
       "      <td>**+@?*WXV</td>\n",
       "      <td>11/09/1992</td>\n",
       "      <td>feminino</td>\n",
       "      <td>Filho(a)</td>\n",
       "      <td>Médio completo</td>\n",
       "      <td>2024-01</td>\n",
       "      <td>JARDIM SANTA GERTRUDES</td>\n",
       "      <td>R$ 0 a R$600,00</td>\n",
       "      <td>SANTA GERTRUDES</td>\n",
       "      <td>SANTA GERTRUDES</td>\n",
       "      <td>S</td>\n",
       "      <td>422.0</td>\n",
       "    </tr>\n",
       "  </tbody>\n",
       "</table>\n",
       "</div>"
      ],
      "text/plain": [
       "  cod_familiar data_nascimento      sexo                   parentesco  \\\n",
       "0     X*HXV;+W      04/05/1967  feminino  Pessoa Responsável Familiar   \n",
       "1     X*HXV;+W      29/05/2006  feminino        Neto(a) ou bisneto(a)   \n",
       "2     X@;WXW?H      24/08/2006  feminino                     Filho(a)   \n",
       "3     X@;WXW?H      16/03/1984  feminino  Pessoa Responsável Familiar   \n",
       "4    **+@?*WXV      11/09/1992  feminino                     Filho(a)   \n",
       "\n",
       "             escolaridade referencia_dados              localidade  \\\n",
       "0           Sem instrução          2024-01       VILA DELLA PIAZZA   \n",
       "1  Fundamental incompleto          2024-01       VILA DELLA PIAZZA   \n",
       "2    Fundamental completo          2024-01      PARQUE ELOY CHAVES   \n",
       "3        Médio incompleto          2024-01      PARQUE ELOY CHAVES   \n",
       "4          Médio completo          2024-01  JARDIM SANTA GERTRUDES   \n",
       "\n",
       "             faixa_renda localidade_padronizado  nm_bairro_upper cdregadm  \\\n",
       "0        R$ 0 a R$600,00                VIANELO          VIANELO        S   \n",
       "1        R$ 0 a R$600,00                VIANELO          VIANELO        S   \n",
       "2  R$601,00 a R%1.000,00            ELOY CHAVES      ELOY CHAVES        W   \n",
       "3  R$601,00 a R%1.000,00            ELOY CHAVES      ELOY CHAVES        W   \n",
       "4        R$ 0 a R$600,00        SANTA GERTRUDES  SANTA GERTRUDES        S   \n",
       "\n",
       "   cdbairro  \n",
       "0     425.0  \n",
       "1     425.0  \n",
       "2     446.0  \n",
       "3     446.0  \n",
       "4     422.0  "
      ]
     },
     "execution_count": 48,
     "metadata": {},
     "output_type": "execute_result"
    }
   ],
   "source": [
    "df.head()"
   ]
  },
  {
   "cell_type": "code",
   "execution_count": 49,
   "id": "c6587be6",
   "metadata": {},
   "outputs": [
    {
     "data": {
      "text/plain": [
       "np.True_"
      ]
     },
     "execution_count": 49,
     "metadata": {},
     "output_type": "execute_result"
    }
   ],
   "source": [
    "df['nm_bairro_upper'].isnull().any()"
   ]
  },
  {
   "cell_type": "code",
   "execution_count": 50,
   "id": "2ca3b869",
   "metadata": {},
   "outputs": [
    {
     "name": "stderr",
     "output_type": "stream",
     "text": [
      "/tmp/ipykernel_250748/3930356949.py:1: FutureWarning: A value is trying to be set on a copy of a DataFrame or Series through chained assignment using an inplace method.\n",
      "The behavior will change in pandas 3.0. This inplace method will never work because the intermediate object on which we are setting values always behaves as a copy.\n",
      "\n",
      "For example, when doing 'df[col].method(value, inplace=True)', try using 'df.method({col: value}, inplace=True)' or df[col] = df[col].method(value) instead, to perform the operation inplace on the original object.\n",
      "\n",
      "\n",
      "  df['nm_bairro_upper'].fillna('Não identificado', inplace=True)\n"
     ]
    }
   ],
   "source": [
    "df['nm_bairro_upper'].fillna('Não identificado', inplace=True)"
   ]
  },
  {
   "cell_type": "code",
   "execution_count": 51,
   "id": "f3399d72",
   "metadata": {},
   "outputs": [],
   "source": [
    "dropar_cols_bairros = ['localidade', 'localidade_padronizado']\n",
    "\n",
    "df.drop(columns=dropar_cols_bairros, inplace=True)\n",
    "df.rename(columns={'nm_bairro_upper' : 'bairro_oficial'}, inplace=True)"
   ]
  },
  {
   "cell_type": "code",
   "execution_count": 52,
   "id": "8d07cb6e",
   "metadata": {},
   "outputs": [
    {
     "data": {
      "text/html": [
       "<div>\n",
       "<style scoped>\n",
       "    .dataframe tbody tr th:only-of-type {\n",
       "        vertical-align: middle;\n",
       "    }\n",
       "\n",
       "    .dataframe tbody tr th {\n",
       "        vertical-align: top;\n",
       "    }\n",
       "\n",
       "    .dataframe thead th {\n",
       "        text-align: right;\n",
       "    }\n",
       "</style>\n",
       "<table border=\"1\" class=\"dataframe\">\n",
       "  <thead>\n",
       "    <tr style=\"text-align: right;\">\n",
       "      <th></th>\n",
       "      <th>cod_familiar</th>\n",
       "      <th>data_nascimento</th>\n",
       "      <th>sexo</th>\n",
       "      <th>parentesco</th>\n",
       "      <th>escolaridade</th>\n",
       "      <th>referencia_dados</th>\n",
       "      <th>faixa_renda</th>\n",
       "      <th>bairro_oficial</th>\n",
       "      <th>cdregadm</th>\n",
       "      <th>cdbairro</th>\n",
       "    </tr>\n",
       "  </thead>\n",
       "  <tbody>\n",
       "    <tr>\n",
       "      <th>0</th>\n",
       "      <td>X*HXV;+W</td>\n",
       "      <td>04/05/1967</td>\n",
       "      <td>feminino</td>\n",
       "      <td>Pessoa Responsável Familiar</td>\n",
       "      <td>Sem instrução</td>\n",
       "      <td>2024-01</td>\n",
       "      <td>R$ 0 a R$600,00</td>\n",
       "      <td>VIANELO</td>\n",
       "      <td>S</td>\n",
       "      <td>425.0</td>\n",
       "    </tr>\n",
       "    <tr>\n",
       "      <th>1</th>\n",
       "      <td>X*HXV;+W</td>\n",
       "      <td>29/05/2006</td>\n",
       "      <td>feminino</td>\n",
       "      <td>Neto(a) ou bisneto(a)</td>\n",
       "      <td>Fundamental incompleto</td>\n",
       "      <td>2024-01</td>\n",
       "      <td>R$ 0 a R$600,00</td>\n",
       "      <td>VIANELO</td>\n",
       "      <td>S</td>\n",
       "      <td>425.0</td>\n",
       "    </tr>\n",
       "    <tr>\n",
       "      <th>2</th>\n",
       "      <td>X@;WXW?H</td>\n",
       "      <td>24/08/2006</td>\n",
       "      <td>feminino</td>\n",
       "      <td>Filho(a)</td>\n",
       "      <td>Fundamental completo</td>\n",
       "      <td>2024-01</td>\n",
       "      <td>R$601,00 a R%1.000,00</td>\n",
       "      <td>ELOY CHAVES</td>\n",
       "      <td>W</td>\n",
       "      <td>446.0</td>\n",
       "    </tr>\n",
       "    <tr>\n",
       "      <th>3</th>\n",
       "      <td>X@;WXW?H</td>\n",
       "      <td>16/03/1984</td>\n",
       "      <td>feminino</td>\n",
       "      <td>Pessoa Responsável Familiar</td>\n",
       "      <td>Médio incompleto</td>\n",
       "      <td>2024-01</td>\n",
       "      <td>R$601,00 a R%1.000,00</td>\n",
       "      <td>ELOY CHAVES</td>\n",
       "      <td>W</td>\n",
       "      <td>446.0</td>\n",
       "    </tr>\n",
       "    <tr>\n",
       "      <th>4</th>\n",
       "      <td>**+@?*WXV</td>\n",
       "      <td>11/09/1992</td>\n",
       "      <td>feminino</td>\n",
       "      <td>Filho(a)</td>\n",
       "      <td>Médio completo</td>\n",
       "      <td>2024-01</td>\n",
       "      <td>R$ 0 a R$600,00</td>\n",
       "      <td>SANTA GERTRUDES</td>\n",
       "      <td>S</td>\n",
       "      <td>422.0</td>\n",
       "    </tr>\n",
       "  </tbody>\n",
       "</table>\n",
       "</div>"
      ],
      "text/plain": [
       "  cod_familiar data_nascimento      sexo                   parentesco  \\\n",
       "0     X*HXV;+W      04/05/1967  feminino  Pessoa Responsável Familiar   \n",
       "1     X*HXV;+W      29/05/2006  feminino        Neto(a) ou bisneto(a)   \n",
       "2     X@;WXW?H      24/08/2006  feminino                     Filho(a)   \n",
       "3     X@;WXW?H      16/03/1984  feminino  Pessoa Responsável Familiar   \n",
       "4    **+@?*WXV      11/09/1992  feminino                     Filho(a)   \n",
       "\n",
       "             escolaridade referencia_dados            faixa_renda  \\\n",
       "0           Sem instrução          2024-01        R$ 0 a R$600,00   \n",
       "1  Fundamental incompleto          2024-01        R$ 0 a R$600,00   \n",
       "2    Fundamental completo          2024-01  R$601,00 a R%1.000,00   \n",
       "3        Médio incompleto          2024-01  R$601,00 a R%1.000,00   \n",
       "4          Médio completo          2024-01        R$ 0 a R$600,00   \n",
       "\n",
       "    bairro_oficial cdregadm  cdbairro  \n",
       "0          VIANELO        S     425.0  \n",
       "1          VIANELO        S     425.0  \n",
       "2      ELOY CHAVES        W     446.0  \n",
       "3      ELOY CHAVES        W     446.0  \n",
       "4  SANTA GERTRUDES        S     422.0  "
      ]
     },
     "execution_count": 52,
     "metadata": {},
     "output_type": "execute_result"
    }
   ],
   "source": [
    "df.head()"
   ]
  },
  {
   "cell_type": "markdown",
   "id": "1b6babb5",
   "metadata": {},
   "source": [
    "Por fim, vamos pegar o nome da regiao admnistrativa que está no dicionario de dados geo."
   ]
  },
  {
   "cell_type": "code",
   "execution_count": 53,
   "id": "a62fefe2",
   "metadata": {},
   "outputs": [
    {
     "data": {
      "text/html": [
       "<div>\n",
       "<style scoped>\n",
       "    .dataframe tbody tr th:only-of-type {\n",
       "        vertical-align: middle;\n",
       "    }\n",
       "\n",
       "    .dataframe tbody tr th {\n",
       "        vertical-align: top;\n",
       "    }\n",
       "\n",
       "    .dataframe thead th {\n",
       "        text-align: right;\n",
       "    }\n",
       "</style>\n",
       "<table border=\"1\" class=\"dataframe\">\n",
       "  <thead>\n",
       "    <tr style=\"text-align: right;\">\n",
       "      <th></th>\n",
       "      <th>Nome</th>\n",
       "      <th>Descrição</th>\n",
       "      <th>Resposta</th>\n",
       "    </tr>\n",
       "  </thead>\n",
       "  <tbody>\n",
       "    <tr>\n",
       "      <th>0</th>\n",
       "      <td>fid</td>\n",
       "      <td>Idenficador padrão</td>\n",
       "      <td>[código]</td>\n",
       "    </tr>\n",
       "    <tr>\n",
       "      <th>1</th>\n",
       "      <td>cdbairro</td>\n",
       "      <td>Código do bairro</td>\n",
       "      <td>[código]</td>\n",
       "    </tr>\n",
       "    <tr>\n",
       "      <th>2</th>\n",
       "      <td>cdregadm</td>\n",
       "      <td>Código da região</td>\n",
       "      <td>C = Central; W = Oeste; NW = Noroeste; N = Nor...</td>\n",
       "    </tr>\n",
       "    <tr>\n",
       "      <th>3</th>\n",
       "      <td>nmbairro</td>\n",
       "      <td>Nome do bairro</td>\n",
       "      <td>[nome do bairro oficial]</td>\n",
       "    </tr>\n",
       "  </tbody>\n",
       "</table>\n",
       "</div>"
      ],
      "text/plain": [
       "       Nome           Descrição  \\\n",
       "0       fid  Idenficador padrão   \n",
       "1  cdbairro    Código do bairro   \n",
       "2  cdregadm    Código da região   \n",
       "3  nmbairro      Nome do bairro   \n",
       "\n",
       "                                            Resposta  \n",
       "0                                           [código]  \n",
       "1                                           [código]  \n",
       "2  C = Central; W = Oeste; NW = Noroeste; N = Nor...  \n",
       "3                           [nome do bairro oficial]  "
      ]
     },
     "execution_count": 53,
     "metadata": {},
     "output_type": "execute_result"
    }
   ],
   "source": [
    "dici_geo = load_csv_geo('dicionario_geo.csv', sep=';', skiprows=1)\n",
    "dici_geo"
   ]
  },
  {
   "cell_type": "code",
   "execution_count": 54,
   "id": "e2f972d6",
   "metadata": {},
   "outputs": [
    {
     "data": {
      "text/plain": [
       "'C = Central; W = Oeste; NW = Noroeste; N = Norte; NE = Nordeste; E = Leste; S = Sul; NA/Null = Serra do Japi'"
      ]
     },
     "execution_count": 54,
     "metadata": {},
     "output_type": "execute_result"
    }
   ],
   "source": [
    "dici_geo.loc[2, 'Resposta']"
   ]
  },
  {
   "cell_type": "code",
   "execution_count": 55,
   "id": "05f8c00d",
   "metadata": {},
   "outputs": [
    {
     "data": {
      "text/plain": [
       "array(['S', 'W', 'E', 'N', 'NW', nan, 'NE', 'C'], dtype=object)"
      ]
     },
     "execution_count": 55,
     "metadata": {},
     "output_type": "execute_result"
    }
   ],
   "source": [
    "df['cdregadm'].unique()"
   ]
  },
  {
   "cell_type": "markdown",
   "id": "33138110",
   "metadata": {},
   "source": [
    "Temos que tomar cuidado para não colocar todos os bairros não identificados como Serra do Japi."
   ]
  },
  {
   "cell_type": "code",
   "execution_count": 56,
   "id": "3eb4855f",
   "metadata": {},
   "outputs": [
    {
     "data": {
      "text/plain": [
       "array([nan], dtype=object)"
      ]
     },
     "execution_count": 56,
     "metadata": {},
     "output_type": "execute_result"
    }
   ],
   "source": [
    "df[df['bairro_oficial']=='Não identificado']['cdregadm'].unique()"
   ]
  },
  {
   "cell_type": "code",
   "execution_count": 57,
   "id": "025d37c7",
   "metadata": {},
   "outputs": [],
   "source": [
    "mapper_regiao_admin = {\n",
    "    'C' : 'Central',\n",
    "    'W' : 'Oeste',\n",
    "    'NW' : 'Noroeste',\n",
    "    'N' : 'Norte',\n",
    "    'NE' : 'Nordeste',\n",
    "    'E' : 'Leste',\n",
    "    'S' : 'Sul',\n",
    "    }\n",
    "\n"
   ]
  },
  {
   "cell_type": "code",
   "execution_count": 58,
   "id": "d68f9714",
   "metadata": {},
   "outputs": [],
   "source": [
    "def fill_regiao_admin(row):\n",
    "\n",
    "    if row['bairro_oficial']=='Não identificado':\n",
    "        return 'Não identificado'\n",
    "    \n",
    "    return mapper_regiao_admin.get(row['cdregadm'], 'Serra do Japi')"
   ]
  },
  {
   "cell_type": "code",
   "execution_count": 59,
   "id": "b2e697e7",
   "metadata": {},
   "outputs": [],
   "source": [
    "df['regiao_administrativa'] = df.apply(fill_regiao_admin, axis=1)"
   ]
  },
  {
   "cell_type": "code",
   "execution_count": 60,
   "id": "3aee6471",
   "metadata": {},
   "outputs": [
    {
     "data": {
      "text/plain": [
       "regiao_administrativa\n",
       "Oeste               0.271028\n",
       "Leste               0.230147\n",
       "Sul                 0.198403\n",
       "Norte               0.134040\n",
       "Noroeste            0.112890\n",
       "Nordeste            0.030135\n",
       "Central             0.016562\n",
       "Serra do Japi       0.004209\n",
       "Não identificado    0.002586\n",
       "Name: proportion, dtype: float64"
      ]
     },
     "execution_count": 60,
     "metadata": {},
     "output_type": "execute_result"
    }
   ],
   "source": [
    "\n",
    "df['regiao_administrativa'].value_counts(normalize=True)"
   ]
  },
  {
   "cell_type": "code",
   "execution_count": 61,
   "id": "f5226aed",
   "metadata": {},
   "outputs": [],
   "source": [
    "df.to_csv(os.path.join(DIR_DADOS_GERADOS, 'base_limpa.csv'), index=False)"
   ]
  },
  {
   "cell_type": "code",
   "execution_count": null,
   "id": "0e800583",
   "metadata": {},
   "outputs": [],
   "source": []
  }
 ],
 "metadata": {
  "kernelspec": {
   "display_name": "venv",
   "language": "python",
   "name": "python3"
  },
  "language_info": {
   "codemirror_mode": {
    "name": "ipython",
    "version": 3
   },
   "file_extension": ".py",
   "mimetype": "text/x-python",
   "name": "python",
   "nbconvert_exporter": "python",
   "pygments_lexer": "ipython3",
   "version": "3.12.3"
  }
 },
 "nbformat": 4,
 "nbformat_minor": 5
}
